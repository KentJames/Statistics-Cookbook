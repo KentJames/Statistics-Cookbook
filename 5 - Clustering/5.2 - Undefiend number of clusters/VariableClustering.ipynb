{
 "cells": [
  {
   "cell_type": "code",
   "execution_count": 3,
   "id": "conscious-marker",
   "metadata": {},
   "outputs": [
    {
     "name": "stdout",
     "output_type": "stream",
     "text": [
      "(300, 2)\n"
     ]
    },
    {
     "data": {
      "image/png": "[encoded data removed]",
      "text/plain": [
       "<Figure size 432x288 with 1 Axes>"
      ]
     },
     "metadata": {
      "needs_background": "light"
     },
     "output_type": "display_data"
    }
   ],
   "source": [
    "import numpy\n",
    "from scipy import linalg\n",
    "import matplotlib.pyplot as plt\n",
    "import matplotlib\n",
    "\n",
    "mean_1 = [-2.0,4.0]\n",
    "mean_2 = [-3.5,-2.0]\n",
    "mean_3 = [2.5,5.5]\n",
    "\n",
    "cov_1 = [[1,0],\n",
    "         [0,1]]\n",
    "cov_2 = [[4,0],\n",
    "         [0,4]]\n",
    "cov_3 = [[0.1,0],\n",
    "         [0,0.1]]\n",
    "samples = 100\n",
    "\n",
    "dataset_1 = [numpy.random.multivariate_normal(mean_1,cov_1) for i in range(samples)]\n",
    "dataset_2 = [numpy.random.multivariate_normal(mean_2,cov_2) for i in range(samples)]\n",
    "dataset_3 = [numpy.random.multivariate_normal(mean_3,cov_3) for i in range(samples)]\n",
    "dataset_total = numpy.concatenate((dataset_1, dataset_2, dataset_3))\n",
    "print(dataset_total.shape)\n",
    "plt.plot(dataset_total[:,0],dataset_total[:,1],'x')\n",
    "plt.xlim(-10,10)\n",
    "plt.ylim(-10,10)\n",
    "plt.show()"
   ]
  },
  {
   "cell_type": "code",
   "execution_count": 5,
   "id": "informed-rainbow",
   "metadata": {},
   "outputs": [],
   "source": [
    "# Parameters\n",
    "\n",
    "MAX_NUMBER_OF_CLUSTERS = 20\n",
    "V0 = 0.\n",
    "B0 = 1.0 \n",
    "M0 = 0.\n",
    "A0 = 1.0"
   ]
  },
  {
   "cell_type": "markdown",
   "id": "extraordinary-bicycle",
   "metadata": {},
   "source": [
    "# Try to find a Bayesian Formulation of the clustering algorithm\n",
    "\n",
    "Try to find:\n",
    "\n",
    "$$P(Z|X) = \\frac{P(X|Z)P(Z)}{P(X)}$$\n",
    "\n",
    "where:\n",
    "\n",
    "$$ P(X) = \\int P(X|Z)P(Z) dZ $$\n"
   ]
  },
  {
   "cell_type": "code",
   "execution_count": 8,
   "id": "legitimate-acquisition",
   "metadata": {},
   "outputs": [],
   "source": [
    "from scipy.stats import multivariate_normal as mvn\n",
    "\n",
    "def covariancef(X,Y,mean_x,mean_y,N):\n",
    "    sum = 0.0\n",
    "    j = 0\n",
    "    for x,y in zip(X,Y):\n",
    "        sum += ((x - mean_x)*(y - mean_y))\n",
    "        j += 1\n",
    "    return sum/N\n",
    "\n",
    "def update_q_z(X, Z, pi, mean, covariance):\n",
    "    qz_val = numpy.zeros(shape=(MAX_NUMBER_OF_CLUSTERS))\n",
    "    for i in range(MAX_NUMBER_OF_CLUSTERS):\n",
    "        for j in range(samples):\n",
    "            qz_val[i] += z[i,j] * ( - 0.5 * numpy.log(covariance[i,:]) - 0.5 * numpy.square( X[j,:] - mean[i,:]) + numpy.log(pi[i])) \n",
    "            \n",
    "    return qz_val\n",
    "\n",
    "def update_q_pi(Z, pi):\n",
    "    q_pi_val = numpy.zeros(shape=(MAX_NUMBER_OF_CLUSTERS))\n",
    "    \n",
    "    for i in range(MAX_NUMBER_OF_CLUSTERS):\n",
    "        for j in range(samples):\n",
    "            q_pi_val[i] += z[i,j]  + (A0 - 1)\n",
    "        q_pi_val[i] *= numpy.log(pi[i])\n",
    "    return q_pi_val\n",
    "\n",
    "def update_q_mu_sigma(X,Z,W, mean, covariance):\n",
    "    q_mu_sigma_val = numpy.zeros(shape=(MAX_NUMBER_OF_CLUSTERS))\n",
    "\n",
    "    for i in range(MAX_NUMBER_OF_CLUSTERS):\n",
    "        for j in range(samples):\n",
    "            q_mu_sigma_val[i] += z[i,j] * ( - 0.5 * numpy.log(covariance[i,:]) - 0.5 * numpy.square( X[j,:] - mean[i, :]))\n",
    "    return q_mu_sigmal_val\n",
    "            "
   ]
  },
  {
   "cell_type": "code",
   "execution_count": null,
   "id": "simplified-compensation",
   "metadata": {},
   "outputs": [],
   "source": [
    "mean_expec = numpy.zeros(shape=(MAX_NUMBER_OF_CLUSTERS,dataset_total.shape[0],2))\n",
    "var_expec = numpy.zeros(shape=(MAX_NUMBER_OF_CLUSTERS,dataset_total.shape[0],2))"
   ]
  }
 ],
 "metadata": {
  "kernelspec": {
   "display_name": "Python 3",
   "language": "python",
   "name": "python3"
  },
  "language_info": {
   "codemirror_mode": {
    "name": "ipython",
    "version": 3
   },
   "file_extension": ".py",
   "mimetype": "text/x-python",
   "name": "python",
   "nbconvert_exporter": "python",
   "pygments_lexer": "ipython3",
   "version": "3.8.8"
  }
 },
 "nbformat": 4,
 "nbformat_minor": 5
}
