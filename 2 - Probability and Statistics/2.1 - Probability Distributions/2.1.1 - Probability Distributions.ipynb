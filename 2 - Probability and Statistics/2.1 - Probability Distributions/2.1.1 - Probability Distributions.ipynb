{
 "cells": [
  {
   "cell_type": "markdown",
   "id": "through-antenna",
   "metadata": {},
   "source": [
    "# Probability Distributions\n",
    "\n",
    "The crux of all statistical methods is that our data points can be considered to be drawn from an underlying probability distribution. The probability distribution describes certain properties of our data such as what is the mean value, its variance, and how is this distribution related to other distributions (important for building statistical models).\n",
    "\n",
    "Data can be drawn from many different probability distributions depending on what the quantity is that we are measuring (for example a quantity between 0 and 10, where the distribution will change if it is a integer or a real number). Also the distribution properties can change depending on _how_ the data is measured, such as the properties of the noise in the measurement apparatus.\n",
    "\n",
    "## Gaussian Distribution\n",
    "\n",
    "The eponymous distribution in statistics is the Gaussian, or Normal, Distribution. This is a distribution of the exponential family (as it defined using an exponential) and its Probability Density Function (P.D.F) is defined as such:\n",
    "$$ \\mathcal{N}(x) = e^{-\\frac{1}{2}\\big(\\frac{x - \\mu}{\\sigma}\\big)^2}$$\n",
    "\n",
    "where $\\mu$ is the mean value of the distribution and $\\sigma$ is the variance. These can be roughly thought of as the central or average value of the distribution and the spread of the data, respectively. The reason this is a 'rough' analogy is because these can vary in other distributions.\n",
    "\n",
    "An example of a distribution with a mean value of 5 and a variance of 10 looks like this:"
   ]
  },
  {
   "cell_type": "code",
   "execution_count": 4,
   "id": "furnished-ceiling",
   "metadata": {},
   "outputs": [],
   "source": [
    "import numpy\n",
    "import matplotlib.pyplot as plt"
   ]
  },
  {
   "cell_type": "code",
   "execution_count": 6,
   "id": "experimental-massachusetts",
   "metadata": {},
   "outputs": [
    {
     "data": {
      "text/plain": [
       "Text(0, 0.5, 'P.D.F')"
      ]
     },
     "execution_count": 6,
     "metadata": {},
     "output_type": "execute_result"
    },
    {
     "data": {
      "image/png": "[encoded data removed]",
      "text/plain": [
       "<Figure size 432x288 with 1 Axes>"
      ]
     },
     "metadata": {
      "needs_background": "light"
     },
     "output_type": "display_data"
    }
   ],
   "source": [
    "def gaussian_pdf(x, mu, sigma):\n",
    "    return numpy.exp( -0.5 * ( (x - mu) / sigma ) **2 )\n",
    "\n",
    "mu = 5\n",
    "var = 10\n",
    "\n",
    "xvars = numpy.arange(-100,100,0.1)\n",
    "yval = gaussian_pdf(xvars, mu, var)\n",
    "\n",
    "plt.plot(xvars,yval)\n",
    "plt.xlabel('x')\n",
    "plt.ylabel('P.D.F')"
   ]
  },
  {
   "cell_type": "markdown",
   "id": "consecutive-dancing",
   "metadata": {},
   "source": [
    "As we can see the centre of the gaussian is offset from 0 by 5 and has a spread about both sides of 0. This is because the gaussian distribution is defined on the range $ (-\\infty, \\infty) $ so if you are using data that starts at 0, you will need to use a different distribution. Alternatively if the mean value of the data is far enough from 0 that it is unlikely to have many or any points below zero, you can approximately (to an often high degree of accuracy) use a gaussian distribution.\n",
    "\n",
    "## Probability Density vs Cumulative Density\n",
    "\n",
    "In the above example, we used the probability density to describe the spread of the data which is drawn from the distribution. An alternative definition is the cumulative density function, which for a gaussian is:\n",
    "$$ \\mathcal{N}_{CDF}(x) = \\frac{1}{2} \\Big( 1 + erf \\Big(\\frac{x - \\mu}{\\sigma \\sqrt{2}} \\Big) \\Big)$$ \n",
    "\n",
    "which using the same values for the mean and variance as we used above, looks like this:"
   ]
  },
  {
   "cell_type": "code",
   "execution_count": 12,
   "id": "together-picking",
   "metadata": {},
   "outputs": [
    {
     "data": {
      "text/plain": [
       "[<matplotlib.lines.Line2D at 0x15d3b0f10>]"
      ]
     },
     "execution_count": 12,
     "metadata": {},
     "output_type": "execute_result"
    },
    {
     "data": {
      "image/png": "[encoded data removed]",
      "text/plain": [
       "<Figure size 432x288 with 1 Axes>"
      ]
     },
     "metadata": {
      "needs_background": "light"
     },
     "output_type": "display_data"
    }
   ],
   "source": [
    "from scipy.special import erf\n",
    "def gaussian_cdf(x, mu, sigma):\n",
    "    return 0.5 * ( 1 + erf( (x - mu) / (sigma * numpy.sqrt(2) ) ) )\n",
    "\n",
    "y_cdf = gaussian_cdf(xvars, mu, var)\n",
    "\n",
    "plt.plot(xvars, y_cdf)"
   ]
  },
  {
   "cell_type": "markdown",
   "id": "sixth-infrared",
   "metadata": {},
   "source": [
    "This is very helpful when defining confidence intervals and is a direct calculation of the probability density function. Also there may exist certain random variables which you are modelling which do not have a defined P.D.F so the C.D.F (often empirically derived) is used in its stead."
   ]
  },
  {
   "cell_type": "code",
   "execution_count": null,
   "id": "interim-correlation",
   "metadata": {},
   "outputs": [],
   "source": []
  }
 ],
 "metadata": {
  "kernelspec": {
   "display_name": "Python 3",
   "language": "python",
   "name": "python3"
  },
  "language_info": {
   "codemirror_mode": {
    "name": "ipython",
    "version": 3
   },
   "file_extension": ".py",
   "mimetype": "text/x-python",
   "name": "python",
   "nbconvert_exporter": "python",
   "pygments_lexer": "ipython3",
   "version": "3.8.8"
  }
 },
 "nbformat": 4,
 "nbformat_minor": 5
}
