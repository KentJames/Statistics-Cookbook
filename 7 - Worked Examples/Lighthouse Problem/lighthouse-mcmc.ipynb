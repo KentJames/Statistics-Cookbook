{
 "cells": [
  {
   "cell_type": "markdown",
   "metadata": {},
   "source": [
    "# The Famous Lighthouse Problem (2D) - MCMC\n",
    "\n",
    "Described initially by Steve Gull and given to first year undergraduates at Cambridge University, this superb bayesian inference problem tries to find a lighthouse off the shore of a coast. \n",
    "\n",
    "A likelihood is defined, and then the Markov Chain Monte Carlo method is used to sample it to find the lighthouse. Refer to the MCMC notebook for the breakdown of how this algorithm works."
   ]
  },
  {
   "cell_type": "code",
   "execution_count": 54,
   "metadata": {
    "scrolled": true
   },
   "outputs": [
    {
     "name": "stdout",
     "output_type": "stream",
     "text": [
      "-8.60366830751\n"
     ]
    },
    {
     "data": {
      "image/png": "[encoded data removed]",
      "text/plain": [
       "<matplotlib.figure.Figure at 0x11280e4a8>"
      ]
     },
     "metadata": {},
     "output_type": "display_data"
    }
   ],
   "source": [
    "## Sivia Chapter 3!\n",
    "\n",
    "import numpy\n",
    "from matplotlib.lines import Line2D\n",
    "import matplotlib.pyplot as plt\n",
    "from scipy.optimize import minimize\n",
    "\n",
    "lighthouse_position_b = 10 #We know the distance from the coast.\n",
    "lighthouse_position_a = -10 #True position along coast (what we will infer)\n",
    "\n",
    "## Draw samples from a cauchy distribution\n",
    "s =lighthouse_position_a + lighthouse_position_b*numpy.random.standard_cauchy(1000)\n",
    "s = s[(s>-50) & (s<50)]\n",
    "print(s.mean())\n",
    "plt.hist(s, bins=350)\n",
    "plt.show()"
   ]
  },
  {
   "cell_type": "code",
   "execution_count": 74,
   "metadata": {},
   "outputs": [
    {
     "data": {
      "image/png": "[encoded data removed]",
      "text/plain": [
       "<matplotlib.figure.Figure at 0x111258d68>"
      ]
     },
     "metadata": {},
     "output_type": "display_data"
    }
   ],
   "source": [
    "\n",
    "\n",
    "\n",
    "## Lets use log likelihoods\n",
    "def calculate_likelihood(a,b,data,scale):\n",
    "    return (b > 0) * numpy.sum(numpy.log( b / (numpy.square(b) + numpy.square(data - a))))/scale\n",
    "\n",
    "## Use Metropolis Hastings to find the lighthouse!\n",
    "\n",
    "n_mc = 10000\n",
    "\n",
    "\n",
    "markov_chain=numpy.zeros((n_mc,2))\n",
    "markov_chain[0] = [20,20] #Initial guess\n",
    "\n",
    "#Proposals\n",
    "\n",
    "meanp = numpy.asarray([0,0])\n",
    "covp = numpy.asarray([[0.1,0],[0,0.1]])\n",
    "\n",
    "acceptances = 0\n",
    "\n",
    "for i in numpy.arange(n_mc-1):\n",
    "    \n",
    "    current_val = markov_chain[i]\n",
    "    proposed_val = current_val + \\\n",
    "                numpy.random.multivariate_normal(meanp,covp)\n",
    "    pdf_curr = calculate_likelihood(current_val[0],current_val[1],s,1)\n",
    "    pdf_proposed=calculate_likelihood(proposed_val[0],proposed_val[1],s,1)\n",
    "    ratio = numpy.exp(pdf_proposed - pdf_curr)\n",
    "    #print(pdf_proposed)\n",
    "    #print(pdf_curr)\n",
    "    #print(ratio)\n",
    "    rand = numpy.random.rand()\n",
    "    if ratio > rand:\n",
    "        markov_chain[i+1] = proposed_val\n",
    "        acceptances += 1\n",
    "    else:\n",
    "        markov_chain[i+1] = current_val\n",
    "        \n",
    "\n",
    "fig = plt.figure()\n",
    "ax = fig.add_subplot(111)\n",
    "\n",
    "a = markov_chain[:,0]\n",
    "b = markov_chain[:,1]\n",
    "\n",
    "line = Line2D(a,b)\n",
    "ax.add_line(line)\n",
    "ax.set_xlim(-50,50)\n",
    "ax.set_ylim(0,50)\n",
    "plt.show()\n",
    "\n",
    "\n"
   ]
  },
  {
   "cell_type": "code",
   "execution_count": null,
   "metadata": {
    "collapsed": true
   },
   "outputs": [],
   "source": []
  },
  {
   "cell_type": "code",
   "execution_count": null,
   "metadata": {
    "collapsed": true
   },
   "outputs": [],
   "source": []
  }
 ],
 "metadata": {
  "kernelspec": {
   "display_name": "Python 3",
   "language": "python",
   "name": "python3"
  },
  "language_info": {
   "codemirror_mode": {
    "name": "ipython",
    "version": 3
   },
   "file_extension": ".py",
   "mimetype": "text/x-python",
   "name": "python",
   "nbconvert_exporter": "python",
   "pygments_lexer": "ipython3",
   "version": "3.6.1"
  }
 },
 "nbformat": 4,
 "nbformat_minor": 2
}
